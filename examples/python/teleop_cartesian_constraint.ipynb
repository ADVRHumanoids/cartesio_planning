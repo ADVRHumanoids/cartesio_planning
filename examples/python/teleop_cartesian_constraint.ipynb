{
 "cells": [
  {
   "cell_type": "code",
   "execution_count": null,
   "metadata": {},
   "outputs": [],
   "source": [
    "# xbotinterface imports (for modelinterface)\n",
    "from xbot_interface import xbot_interface as xbot\n",
    "from xbot_interface import config_options as co\n",
    "\n",
    "# cartesio imports (for Affine3 and IK solver)\n",
    "from cartesian_interface.pyci_all import *\n",
    "import cartesian_interface.roscpp_utils as roscpp\n",
    "\n",
    "# cartesio_planning imports\n",
    "from cartesio_planning import planning\n",
    "from cartesio_planning import validity_check\n",
    "from cartesio_planning import visual_tools\n",
    "from cartesio_planning import constraints\n",
    "\n",
    "# linear algebra, yaml, ros, ...\n",
    "import numpy as np\n",
    "import scipy.linalg as la\n",
    "import yaml\n",
    "import moveit_msgs.msg \n",
    "import rospy\n",
    "import StringIO\n",
    "\n",
    "\n",
    "# we need to initialize roscpp (underlying code is in C++!)\n",
    "cpp_argv = []\n",
    "if not roscpp.init('teleop_example', cpp_argv):\n",
    "    print 'Unable to initialize roscpp node!'"
   ]
  },
  {
   "cell_type": "code",
   "execution_count": null,
   "metadata": {},
   "outputs": [],
   "source": [
    "# get robot description from param server\n",
    "urdf = rospy.get_param('robot_description')\n",
    "srdf = rospy.get_param('robot_description_semantic')\n",
    "\n",
    "# make xbot model\n",
    "opt = co.ConfigOptions()\n",
    "opt.set_urdf(urdf)\n",
    "opt.set_srdf(srdf)\n",
    "opt.generate_jidmap()\n",
    "opt.set_bool_parameter('is_model_floating_base', False)\n",
    "opt.set_string_parameter('model_type', 'RBDL')\n",
    "\n",
    "model = xbot.ModelInterface(opt)\n",
    "\n",
    "# define joint range\n",
    "qmin = np.full(model.getJointNum(), -2.0)\n",
    "qmax = -qmin\n",
    "yaml_options = '' # leave default options"
   ]
  },
  {
   "cell_type": "code",
   "execution_count": null,
   "metadata": {},
   "outputs": [],
   "source": [
    "# make planning scene\n",
    "ps = validity_check.PlanningSceneWrapper(model)\n",
    "ps.startMonitor() # listen to topics / publish planning scene for visualization\n",
    "ps.startGetPlanningSceneServer()  # advertise get_planning_scene srv for rviz\n",
    "\n",
    "# add a box and two spheres to the planning scene\n",
    "#ps.addBox('box', [0.1, 0.8, 0.1], Affine3(pos=[0.3, 0.2, 0.5]))\n",
    "#ps.addSphere('sphere_1', 0.3, Affine3(pos=[0.0, 0.4, 0.7]))\n",
    "#ps.addSphere('sphere_2', 0.2, Affine3(pos=[0.2, -0.4, 0.5]))"
   ]
  },
  {
   "cell_type": "code",
   "execution_count": null,
   "metadata": {},
   "outputs": [],
   "source": [
    "# our validity checker checks for collisions\n",
    "def model_validity_checker():\n",
    "    ps.update()\n",
    "    return not ps.checkCollisions()\n",
    "\n",
    "def validity_checker(q):\n",
    "    model.setJointPosition(q)\n",
    "    model.update()\n",
    "    return model_validity_checker()"
   ]
  },
  {
   "cell_type": "code",
   "execution_count": null,
   "metadata": {},
   "outputs": [],
   "source": [
    "# write an ik problem to describe the manifold z = const\n",
    "ee_name = 'TCP'\n",
    "\n",
    "ik = {}\n",
    "\n",
    "ik['solver_options'] = {}\n",
    "\n",
    "ik['stack'] = [['ArmZ']]\n",
    "\n",
    "ik['constraints'] = ['JointLimits', 'VelocityLimits']\n",
    "\n",
    "ik['JointLimits'] = {\n",
    "    'type': 'JointLimits'\n",
    "}\n",
    "\n",
    "ik['VelocityLimits'] = {\n",
    "    'type': 'VelocityLimits',\n",
    "    'limits': 0.1\n",
    "}\n",
    "\n",
    "ik['ArmZ'] = {\n",
    "    'type': 'Cartesian',\n",
    "    'distal_link': ee_name,\n",
    "    'indices': [2]\n",
    "}\n",
    "\n",
    "ik_str = yaml.dump(ik)\n",
    "\n",
    "# constraint from cartesian interface solver\n",
    "ci = pyci.CartesianInterface.MakeInstance('OpenSot', ik_str, model, 1.0)\n",
    "constr = constraints.CartesianConstraint(ci)\n",
    "\n",
    "# create planner\n",
    "planner = planning.OmplPlanner(constr, qmin, qmax, yaml_options)"
   ]
  },
  {
   "cell_type": "code",
   "execution_count": null,
   "metadata": {},
   "outputs": [],
   "source": [
    "# define start state (joint space)\n",
    "start = [0, 1, 1, 0, 0]\n",
    "\n",
    "# set constraint to pass through the start state\n",
    "model.setJointPosition(start)\n",
    "model.update()\n",
    "constr.reset()\n",
    "\n",
    "# check constraint consistency\n",
    "print 'Constraint value at q = start is {}'.format(constr.function(start))\n",
    "\n",
    "# Check start state is valid\n",
    "print 'Start state valid: {}'.format(validity_checker(start))\n",
    "print ps.getCollidingLinks()\n",
    "\n",
    "# Publish it to a marker array\n",
    "start_viz = visual_tools.RobotViz(model, '/teleop_example/start', color=[0, 0, 1, 0.5])\n",
    "start_viz.publishMarkers(ps.getCollidingLinks())"
   ]
  },
  {
   "cell_type": "code",
   "execution_count": null,
   "metadata": {},
   "outputs": [],
   "source": [
    "# find a goal state which is constraint consistent by projection\n",
    "goal = [-1, 0, 0, 1, 1]\n",
    "goal = constr.project(goal)\n",
    "\n",
    "# check constraint consistency\n",
    "print 'Constraint value at q = goal is {}'.format(constr.function(goal))\n",
    "\n",
    "print 'Goal state valid: {}'.format(validity_checker(goal))\n",
    "print ps.getCollidingLinks()\n",
    "goal_viz = visual_tools.RobotViz(model, '/teleop_example/goal', color=[0, 1, 0, 0.5])\n",
    "goal_viz.publishMarkers(ps.getCollidingLinks())"
   ]
  },
  {
   "cell_type": "code",
   "execution_count": null,
   "metadata": {},
   "outputs": [],
   "source": [
    "# Execute planner\n",
    "planner_type = 'RRTstar'\n",
    "timeout = 3.0\n",
    "threshold = 0.0\n",
    "\n",
    "planner.setStartAndGoalStates(start, goal, threshold)\n",
    "planner.setStateValidityPredicate(validity_checker)\n",
    "success = planner.solve(timeout, planner_type)\n",
    "\n",
    "print 'Planner output : {}'.format(success)\n",
    "\n",
    "solution = np.array(planner.getSolutionPath()).transpose()"
   ]
  },
  {
   "cell_type": "code",
   "execution_count": null,
   "metadata": {},
   "outputs": [],
   "source": [
    "# Plot solution\n",
    "%matplotlib inline\n",
    "import matplotlib.pyplot as plt"
   ]
  },
  {
   "cell_type": "code",
   "execution_count": null,
   "metadata": {},
   "outputs": [],
   "source": [
    "plt.rcParams.update({'figure.figsize': [14, 8],\n",
    "                     'font.size': 16})\n",
    "\n",
    "plt.plot(np.full_like(start, 0), start, '.', markersize=16)\n",
    "plt.plot(np.full_like(goal, solution.shape[1]-1), goal, '.', markersize=16)\n",
    "plt.plot(solution.transpose(), '-')\n",
    "plt.grid()\n",
    "plt.xlabel('Sample')\n",
    "plt.ylabel('Joint position [rad]')\n",
    "plt.legend()"
   ]
  },
  {
   "cell_type": "code",
   "execution_count": null,
   "metadata": {},
   "outputs": [],
   "source": [
    "# Play solution a number of times..\n",
    "viz = visual_tools.RobotViz(model, \n",
    "                            '/teleop_example/solution', \n",
    "                            color=[0.5, 0, 0.5, 0.5])\n",
    "\n",
    "ntimes = 10\n",
    "duration = 3.0\n",
    "dt = duration/solution.shape[1]\n",
    "\n",
    "for _ in range(ntimes):\n",
    "    \n",
    "    for i in range(solution.shape[1]):\n",
    "        \n",
    "        q = solution[:, i]\n",
    "        model.setJointPosition(q)\n",
    "        model.update()\n",
    "        viz.publishMarkers()\n",
    "        rospy.sleep(dt)"
   ]
  },
  {
   "cell_type": "code",
   "execution_count": null,
   "metadata": {},
   "outputs": [],
   "source": []
  },
  {
   "cell_type": "code",
   "execution_count": null,
   "metadata": {},
   "outputs": [],
   "source": []
  }
 ],
 "metadata": {
  "kernelspec": {
   "display_name": "Python 2",
   "language": "python",
   "name": "python2"
  },
  "language_info": {
   "codemirror_mode": {
    "name": "ipython",
    "version": 2
   },
   "file_extension": ".py",
   "mimetype": "text/x-python",
   "name": "python",
   "nbconvert_exporter": "python",
   "pygments_lexer": "ipython2",
   "version": "2.7.12"
  }
 },
 "nbformat": 4,
 "nbformat_minor": 2
}
